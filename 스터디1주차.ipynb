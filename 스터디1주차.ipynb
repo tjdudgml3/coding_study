{
  "nbformat": 4,
  "nbformat_minor": 0,
  "metadata": {
    "colab": {
      "provenance": [],
      "collapsed_sections": [],
      "authorship_tag": "ABX9TyO8aYGF15IOzbmJrmxdZwoG",
      "include_colab_link": true
    },
    "kernelspec": {
      "name": "python3",
      "display_name": "Python 3"
    },
    "language_info": {
      "name": "python"
    }
  },
  "cells": [
    {
      "cell_type": "markdown",
      "metadata": {
        "id": "view-in-github",
        "colab_type": "text"
      },
      "source": [
        "<a href=\"https://colab.research.google.com/github/tjdudgml3/coding_study/blob/main/%EC%8A%A4%ED%84%B0%EB%94%941%EC%A3%BC%EC%B0%A8.ipynb\" target=\"_parent\"><img src=\"https://colab.research.google.com/assets/colab-badge.svg\" alt=\"Open In Colab\"/></a>"
      ]
    },
    {
      "cell_type": "code",
      "execution_count": null,
      "metadata": {
        "colab": {
          "base_uri": "https://localhost:8080/"
        },
        "id": "z7HhZglxFYsJ",
        "outputId": "60da4f9c-315b-4c6b-c064-a8ececb7cb6f"
      },
      "outputs": [
        {
          "output_type": "stream",
          "name": "stdout",
          "text": [
            "1 1\n",
            "1 1\n",
            "-1 "
          ]
        }
      ],
      "source": [
        "#1주차 1번 2차방정식 해 찾기, 완전탐색법\n",
        "a,b = input().split(\" \")\n",
        "\n",
        "def sol(a,b):\n",
        "  answer = []\n",
        "  for x in range(200):\n",
        "    xx = x- 100\n",
        "    if xx**2 + 2*int(a)*xx + int(b) == 0:\n",
        "      answer.append(xx)\n",
        "  return answer\n",
        "answer = sol(a,b)\n",
        "for a in answer:\n",
        "  print(a,end = \" \")\n",
        "\n"
      ]
    },
    {
      "cell_type": "code",
      "source": [
        "#2번 양과 염소의 연립방정식 해 찾기 ----> 이 다음문제부턴 clean_code 노력\n",
        "a,b,c,d = input().split(\" \")\n",
        "def sol(a,b,c,d):\n",
        "  answer= []\n",
        "  for lamb in range(1,1000):\n",
        "    for goat in range(1,1000):\n",
        "      if (a*lamb) + (b*goat) == d and (lamb) + (goat) == c:\n",
        "        answer.append((lamb,goat))\n",
        "  return answer\n",
        "\n",
        "answer = sol(int(a),int(b),int(c),int(d))     \n",
        "if len(answer) == 1:\n",
        "  for a in answer[0]:\n",
        "    print(a,end = \" \")\n",
        "else:\n",
        "  print(-1)"
      ],
      "metadata": {
        "colab": {
          "base_uri": "https://localhost:8080/"
        },
        "id": "9oNS3gO7Yv8z",
        "outputId": "ee642319-deb6-4d84-b1da-ef2e1b0f509c"
      },
      "execution_count": null,
      "outputs": [
        {
          "output_type": "stream",
          "name": "stdout",
          "text": [
            "3 4 8 32\n",
            "-1\n"
          ]
        }
      ]
    },
    {
      "cell_type": "code",
      "source": [
        "\n",
        "#3번 난쟁이 9명중에 7명의 몸무게합이 100이 되게하는 경우의수를 찾는문제\n",
        "#완전탐색 섹션이지만 완전탐색으로 푸는 방법을 감을 못 잡아 dfs로 풀었다.\n",
        "height = []\n",
        "for element in range(9):\n",
        "  height.append(int(input()))\n",
        "height.sort()\n",
        "answer2 = [] #마지막 print 할 answer 리스트\n",
        "\n",
        "def dfs(idx,height,cnt,answer,answer2):\n",
        "  \n",
        "  if cnt == 7 and sum(answer) == 100: #난쟁이 수가 7명이고 그 수의 합이 100일때 answer의 element를 answer2로 옮김\n",
        "    for a in answer:\n",
        "      answer2.append(a)\n",
        "    \n",
        "  else:\n",
        "    if idx >= 8:\n",
        "      return\n",
        "    else:\n",
        "      answer.append(height[idx+1])\n",
        "      dfs(idx+1,height,cnt+1,answer,answer2)\n",
        "      answer.pop()\n",
        "      answer.pop()\n",
        "      answer.append(height[idx+1])\n",
        "      dfs(idx+1,height,cnt,answer,answer2)\n",
        "  \n",
        "answer = []\n",
        "answer.append(height[0])\n",
        "dfs(0,height,1,answer,answer2)\n",
        "\n",
        "for answer_num in answer2[:7]:\n",
        "  print(answer_num)\n"
      ],
      "metadata": {
        "colab": {
          "base_uri": "https://localhost:8080/"
        },
        "id": "qeF-lrRReeLs",
        "outputId": "ccd651b2-d11f-4424-bf3d-db894b1d63db"
      },
      "execution_count": null,
      "outputs": [
        {
          "output_type": "stream",
          "name": "stdout",
          "text": [
            "20\n",
            "7\n",
            "23\n",
            "19\n",
            "10\n",
            "15\n",
            "25\n",
            "8\n",
            "13\n",
            "7\n",
            "8\n",
            "10\n",
            "13\n",
            "19\n",
            "20\n",
            "23\n"
          ]
        }
      ]
    },
    {
      "cell_type": "code",
      "source": [
        "#4번 숫자 경의수 찾기. 완전탐색\n",
        "\n",
        "n = int(input())\n",
        "\n",
        "def sol(n,cnt):\n",
        "  for num_b in range(1,n):\n",
        "    b = num_b\n",
        "    if n-b == 1:\n",
        "      break\n",
        "    for num_c in range(2,n-b):\n",
        "      c = b + num_c\n",
        "      a = n - b - c\n",
        "      \n",
        "      if a<= 0:\n",
        "        break\n",
        "      if a%2 == 0:\n",
        "        cnt += 1\n",
        "        #print(a,b,c)\n",
        "  return cnt\n",
        "\n",
        "print(sol(n,0))"
      ],
      "metadata": {
        "id": "HRd450JaMISy",
        "colab": {
          "base_uri": "https://localhost:8080/"
        },
        "outputId": "c56c8bdd-4c87-4137-9589-c023ff56d02c"
      },
      "execution_count": null,
      "outputs": [
        {
          "output_type": "stream",
          "name": "stdout",
          "text": [
            "6\n",
            "2 1 3\n",
            "1\n"
          ]
        }
      ]
    },
    {
      "cell_type": "code",
      "source": [
        "#5번 숫자 경의수 찾기, 완전탐색\n",
        "\n",
        "n = int(input())\n",
        "\n",
        "def sol(n,cnt):\n",
        "\n",
        "  for a in range(1,100):\n",
        "    for b in range(1,a):\n",
        "      if b**2 + n == a**2:\n",
        "        cnt += 1\n",
        "\n",
        "  return(cnt)\n",
        "\n",
        "print(sol(n,0))"
      ],
      "metadata": {
        "colab": {
          "base_uri": "https://localhost:8080/"
        },
        "id": "3SkC4J0sM06c",
        "outputId": "763e7300-d5b8-4cad-f33c-b08090d1fbb2"
      },
      "execution_count": null,
      "outputs": [
        {
          "output_type": "stream",
          "name": "stdout",
          "text": [
            "24\n",
            "2\n"
          ]
        }
      ]
    },
    {
      "cell_type": "code",
      "source": [
        "#6번 숫자 경우의수 구하기\n",
        "\n",
        "n,m,k = input().split(\" \")\n",
        "\n",
        "def sol(n,m,k):\n",
        "  cnt =0\n",
        "  for num in range(1,((n+m)//3)+2):\n",
        "    if n - num*2 >=0 and m - num >= 0 and n+m - num*3 >=k:\n",
        "      cnt += 1\n",
        "  return(cnt)\n",
        "print(sol(int(n),int(m),int(k)))"
      ],
      "metadata": {
        "id": "J_L0MEbRTtjd",
        "colab": {
          "base_uri": "https://localhost:8080/"
        },
        "outputId": "7b849386-3ff8-4573-ab05-6969296749a8"
      },
      "execution_count": null,
      "outputs": [
        {
          "output_type": "stream",
          "name": "stdout",
          "text": [
            "6 3 2\n",
            "2\n"
          ]
        }
      ]
    },
    {
      "cell_type": "code",
      "source": [
        "#7번 버섯의 점수구하기, 100점에 가깝게 점수구하기.\n",
        "n = []\n",
        "for i in range(10):\n",
        "  n.append(int(input()))\n",
        "\n",
        "def sol(n):\n",
        "  total_mushroom = 0\n",
        "  for score_on_mushroom in n:\n",
        "    #print(total_mushroom)\n",
        "    if total_mushroom + score_on_mushroom - 100 >= 100 - total_mushroom:\n",
        "      if total_mushroom + score_on_mushroom - 100 == 100 - total_mushroom:\n",
        "        return total_mushroom + score_on_mushroom\n",
        "      return total_mushroom\n",
        "    else:\n",
        "      total_mushroom += score_on_mushroom\n",
        "  return total_mushroom\n",
        "print(sol(n)) "
      ],
      "metadata": {
        "colab": {
          "base_uri": "https://localhost:8080/"
        },
        "id": "M_L9QXI9oSYq",
        "outputId": "86b2aa1b-29ce-418b-f4fd-4cc2ad77d201"
      },
      "execution_count": null,
      "outputs": [
        {
          "output_type": "stream",
          "name": "stdout",
          "text": [
            "10\n",
            "20\n",
            "30\n",
            "38\n",
            "4\n",
            "50\n",
            "60\n",
            "70\n",
            "80\n",
            "90\n",
            "102\n"
          ]
        }
      ]
    },
    {
      "cell_type": "code",
      "source": [
        "#8번 숫자의 경우의수 찾기\n",
        "a,b,c,n = input().split(\" \")\n",
        "def sol(a,b,c,n):\n",
        "  for num_a in range(n//a +a):\n",
        "    for num_b in range(n//b + b):\n",
        "      for num_c in range(n//c + c):\n",
        "        if a*num_a + b*num_b + c*num_c == n:\n",
        "          return 1\n",
        "  return 0\n",
        "\n",
        "print(sol(int(a),int(b),int(c),int(n)))"
      ],
      "metadata": {
        "colab": {
          "base_uri": "https://localhost:8080/"
        },
        "id": "iC1ZtFW-qZA6",
        "outputId": "21305953-7e33-434d-c04f-8a2410a3f106"
      },
      "execution_count": null,
      "outputs": [
        {
          "output_type": "stream",
          "name": "stdout",
          "text": [
            "5 9 12 113\n",
            "1\n"
          ]
        }
      ]
    },
    {
      "cell_type": "code",
      "source": [
        "#9번 3개이상의 배수 구하기, 완전탐색\n",
        "\n",
        "n = list(map(int,input().split(\" \")))\n",
        "\n",
        "n.sort()\n",
        "def sol(n):\n",
        "  cnt = 0\n",
        "  for cnt_num in range(1,1000000):\n",
        "    for n_element in n:\n",
        "      if cnt_num%n_element == 0:\n",
        "        cnt += 1\n",
        "      if cnt == 3:\n",
        "        return cnt_num\n",
        "    cnt = 0\n",
        "print(sol(n))"
      ],
      "metadata": {
        "colab": {
          "base_uri": "https://localhost:8080/"
        },
        "id": "B1RWw7D-tzMh",
        "outputId": "6e82e007-25bb-4459-92a1-13d410868e04"
      },
      "execution_count": null,
      "outputs": [
        {
          "output_type": "stream",
          "name": "stdout",
          "text": [
            "95 96 97 98 99\n",
            "155232\n"
          ]
        }
      ]
    },
    {
      "cell_type": "code",
      "source": [
        "#10번 연립방정식의 해 구하기, 완전탐색\n",
        "\n",
        "n = list(map(int,input().split(\" \")))\n",
        "\n",
        "\n",
        "def sol(n):\n",
        "  for x in range(-999,1000):\n",
        "    for y in range(-999,1000):\n",
        "      if n[0]*x + n[1]*y == n[2] and n[3]*x + n[4]*y ==n[5]:\n",
        "        print(x,y)\n",
        "        return\n",
        "\n",
        "sol(n)"
      ],
      "metadata": {
        "colab": {
          "base_uri": "https://localhost:8080/"
        },
        "id": "T1qUNdhlv0z5",
        "outputId": "22bc4672-a626-496f-ba09-c9018f5c4848"
      },
      "execution_count": null,
      "outputs": [
        {
          "output_type": "stream",
          "name": "stdout",
          "text": [
            "2 5 8 3 -4 -11\n",
            "-1 2\n"
          ]
        }
      ]
    },
    {
      "cell_type": "code",
      "source": [
        "#11번 리스트에서 한 원소를 제외했을때에 지속되는 시간의 최댓값찾기. 완전탐색\n",
        "\n",
        "n = int(input())\n",
        "time =[]\n",
        "for i in range(n):\n",
        "  time.append(list(map(int,input().split(\" \"))))\n",
        "#print(time)\n",
        "for idx in range(len(time)):\n",
        "  temp = []\n",
        "  for time_element in range(time[idx][0],time[idx][1]):\n",
        "    temp.append(time_element)\n",
        "  time[idx] = temp\n",
        "#print(time)\n",
        "def sol(n,time):\n",
        "  best = 0\n",
        "  best_temp = 0\n",
        "  for slice_ele in range(len(time)):\n",
        "    temp = time.copy()\n",
        "    if slice_ele == 0:\n",
        "      temp = temp[1:]\n",
        "    elif slice_ele == len(time):\n",
        "      temp = temp[:-1]\n",
        "    else:\n",
        "      temp = temp[:slice_ele] + temp[slice_ele+1:]\n",
        "    \n",
        "    for x in range(1000):\n",
        "      for y in temp:\n",
        "        if x in y:\n",
        "          #print(temp,x)\n",
        "          best_temp += 1\n",
        "          break\n",
        "    if best_temp > best:\n",
        "      best = best_temp\n",
        "    best_temp = 0\n",
        "  return best\n",
        "print(sol(n,time))\n"
      ],
      "metadata": {
        "colab": {
          "base_uri": "https://localhost:8080/"
        },
        "id": "V-zsP5LHR_hY",
        "outputId": "955e8746-4466-439a-bf1b-874ba8d9163a"
      },
      "execution_count": null,
      "outputs": [
        {
          "output_type": "stream",
          "name": "stdout",
          "text": [
            "3\n",
            "5 9\n",
            "2 7\n",
            "0 2\n",
            "7\n"
          ]
        }
      ]
    },
    {
      "cell_type": "code",
      "source": [
        "#12번 겹치는 종이를 제외한 종이의 넓이 구하기-> 2차원배열을 1차원배열로 flatten후 진행. 완전탐색\n",
        "\n",
        "#n = [[3,7],[15,7],[5,2]]\n",
        "n = []\n",
        "nums = int(input())\n",
        "for i in range(nums):\n",
        "  n.append(list(map(int,input().split())))\n",
        "\n",
        "background = []\n",
        "for i in range(10000):\n",
        "  background.append(1)\n",
        "\n",
        "def sol(map,papers):\n",
        "  cnt = 0\n",
        "  for paper_point in papers:\n",
        "    x = paper_point[0]\n",
        "    y = paper_point[1]\n",
        "    for inc_x in range(10):\n",
        "      for inc_y in range(10):\n",
        "\n",
        "        if map[x+inc_x + 100*(y+inc_y)] == 1:\n",
        "          #print(x+inc_x,y+inc_y)\n",
        "          map[x+inc_x + 100*(y+inc_y)] = 0\n",
        "          cnt += 1\n",
        "  return cnt\n",
        "\n",
        "print(sol(background,n))\n",
        "\n"
      ],
      "metadata": {
        "colab": {
          "base_uri": "https://localhost:8080/"
        },
        "id": "B_TMop3pT8En",
        "outputId": "9fe12d41-bf77-4718-ec8e-03a7f34372d4"
      },
      "execution_count": null,
      "outputs": [
        {
          "output_type": "stream",
          "name": "stdout",
          "text": [
            "5\n",
            "0 0\n",
            "10 10\n",
            "20 20\n",
            "30 30\n",
            "40 40\n",
            "500\n"
          ]
        }
      ]
    },
    {
      "cell_type": "code",
      "source": [
        "#13번 문제를 꼼꼼하게 읽어야겠다. 서로다른 정수, 0이 포함안된다는것 때문에 시간이 오래 걸렸다.\n",
        "# 숫자야구게임 완전탐색.\n",
        "n = int(input())\n",
        "n_list = []\n",
        "for i in range(n):\n",
        "  n_list.append(input().split(\" \"))\n",
        "def sol(n_list):\n",
        "  answer = []\n",
        "  for a in range(100,1000):\n",
        "\n",
        "    if '0' in str(a) or str(a)[0] == str(a)[1] or str(a)[0] == str(a)[2] or str(a)[2] ==str(a)[1] :\n",
        "      continue\n",
        "    temp = 0\n",
        "    a= str(a)\n",
        "    for num_test1 in n_list:\n",
        "      strike = 0\n",
        "      ball = 0\n",
        "      num_test = num_test1.copy()\n",
        "      num_test[0] = list(num_test[0])\n",
        "      check_0=0\n",
        "      check_1=0\n",
        "      check_2=0\n",
        "      if a[0] == num_test[0][0]:\n",
        "        strike += 1\n",
        "        num_test[0][0] = 'a'\n",
        "        check_0=1\n",
        "      if a[1] == num_test[0][1]:\n",
        "        strike += 1\n",
        "        num_test[0][1] = 'a'\n",
        "        check_1=1\n",
        "      if a[2] == num_test[0][2]:\n",
        "        strike += 1\n",
        "        num_test[0][2] = 'a'\n",
        "        check_2=1\n",
        "      if a[0] == num_test[0][1] and check_0== 0:\n",
        "        ball += 1\n",
        "        num_test[0][1] = 'a'\n",
        "      if a[0] == num_test[0][2] and check_0== 0:\n",
        "        ball += 1\n",
        "        num_test[0][2] = 'a'\n",
        "      if a[1] ==num_test[0][0] and check_1== 0:\n",
        "        ball += 1\n",
        "        num_test[0][0] = 'a'\n",
        "      if a[1] == num_test[0][2] and check_1== 0:\n",
        "        ball += 1\n",
        "        num_test[0][2] = 'a'\n",
        "      if a[2] ==num_test[0][1] and check_2== 0:\n",
        "        ball += 1\n",
        "        num_test[0][1] = 'a'\n",
        "      if a[2] == num_test[0][0] and check_2== 0:\n",
        "        ball += 1\n",
        "        num_test[0][0] = 'a'\n",
        "     \n",
        "      if strike == int(num_test[1]) and ball == int(num_test[2]):\n",
        "        temp += 1\n",
        "      #print(f\"bum_test = {num_test}, a = {a}, 0 = {num_test[0]}, st = {num_test[1]},ball = {num_test[2]}.....{temp}......{strike,ball}\")\n",
        "    if temp == len(n_list):\n",
        "      #print(a)\n",
        "      answer.append(a)\n",
        "  return answer\n",
        "answer = sol(n_list)\n",
        "print(len(answer))"
      ],
      "metadata": {
        "colab": {
          "base_uri": "https://localhost:8080/"
        },
        "id": "RvE7wTY9fcqY",
        "outputId": "5cbcd252-d8d3-4fb1-9530-615bc9bf79da"
      },
      "execution_count": null,
      "outputs": [
        {
          "output_type": "stream",
          "name": "stdout",
          "text": [
            "0\n",
            "504\n"
          ]
        }
      ]
    },
    {
      "cell_type": "code",
      "source": [
        "#14번 비밀번호 찾기. 규칙: 큰 소수의 곱셈. 완전탐색\n",
        "n = int(input())\n",
        "n_list = []\n",
        "for i in range(n):\n",
        "  n_list.append(int(input()))\n",
        "\n",
        "def sol(n):\n",
        "  answer = []\n",
        "  for password in n:\n",
        "    for num in range(2,1000000):\n",
        "      if password%num == 0:\n",
        "        answer.append(\"NO\")\n",
        "        break\n",
        "        \n",
        "      if num == 1000000-1:\n",
        "        answer.append(\"YES\")\n",
        "        break\n",
        "\n",
        "  return answer\n",
        "answer = sol(n_list)\n",
        "for a in answer:\n",
        "  print(a)\n",
        "  \n",
        "       \n"
      ],
      "metadata": {
        "colab": {
          "base_uri": "https://localhost:8080/"
        },
        "id": "JUkUhjCrxnOo",
        "outputId": "24490093-3fd8-4688-b413-4b22f5079d65"
      },
      "execution_count": null,
      "outputs": [
        {
          "output_type": "stream",
          "name": "stdout",
          "text": [
            "3\n",
            "1000036000099\n",
            "1500035500153\n",
            "20000000000002\n",
            "YES\n",
            "NO\n",
            "NO\n"
          ]
        }
      ]
    },
    {
      "cell_type": "code",
      "source": [
        "#15번 창고의 넓이 구하기. 완전탐색으로 풀지 않았다. 수치적으로 경우의수를 나눠서 구현\n",
        "\n",
        "\n",
        "\n",
        "\n",
        "\n",
        "n = []\n",
        "nums = int(input())\n",
        "for i in range(nums):\n",
        "  n.append(tuple(map(int,input().split())))\n",
        "  \n",
        "n.sort()\n",
        "\n",
        "x_point = []\n",
        "height = []\n",
        "for x,h in n:\n",
        "  x_point.append(x)\n",
        "  height.append(h)\n",
        "\n",
        "def sol(x,h):\n",
        "  answer = 0\n",
        "  cur_x = 0\n",
        "  if len(x) == 1:\n",
        "    return h[0]\n",
        "  for idx in range(len(h)):\n",
        "    if idx < cur_x and idx != 0:\n",
        "      continue\n",
        "    # print(f\"x좌표 = {x[idx]},total = {answer}\")\n",
        "    \n",
        "    best = 0\n",
        "    best_point = 0\n",
        "    if idx+1 == len(h):\n",
        "      answer += h[idx]\n",
        "    for isbigger in range(idx+1,len(h)):\n",
        "      \n",
        "      if best <= h[isbigger]:\n",
        "        best = h[isbigger]\n",
        "        best_point = isbigger\n",
        "      # print(f\"idx = {idx} isbigger = {isbigger} best_point = {best_point}\")\n",
        "      if h[idx] <= h[isbigger]:\n",
        "        answer += (x[isbigger] - x[idx])*h[idx]\n",
        "        cur_x = isbigger\n",
        "        break\n",
        "\n",
        "      if isbigger == len(h) -1:\n",
        "        answer += h[idx]\n",
        "        \n",
        "        answer += h[best_point]*(x[best_point]-x[idx])\n",
        "        cur_x = best_point+1\n",
        "      # print(f\"last   idx = {idx} isbigger = {isbigger} best_point = {best_point}\")\n",
        "      \n",
        "  return answer\n",
        "      \n",
        "print(sol(x_point,height))"
      ],
      "metadata": {
        "colab": {
          "base_uri": "https://localhost:8080/"
        },
        "id": "b-kmIPTP70IX",
        "outputId": "1117964f-c528-4234-9537-32a5d7984c16"
      },
      "execution_count": null,
      "outputs": [
        {
          "output_type": "stream",
          "name": "stdout",
          "text": [
            "4\n",
            "1 2\n",
            "2 5\n",
            "6 5\n",
            "7 5\n",
            "32\n"
          ]
        }
      ]
    },
    {
      "cell_type": "code",
      "source": [
        "22421#16번\n",
        "\n",
        "n = int(input())\n",
        "x = []\n",
        "y = []\n",
        "for a in range(n):\n",
        "  temp = input().split(\" \")\n",
        "  x.append(int(temp[0]))\n",
        "  y.append(int(temp[1]))\n",
        "\n",
        "def get_mid(x,y):\n",
        "  temp_x = x.copy()\n",
        "  temp_y = y.copy()\n",
        "  temp_x.sort()\n",
        "  temp_y.sort()\n",
        "  mid_x = len(temp_x)//2 if len(temp_x)%2 !=0 else len(temp_x)//2 -1\n",
        "  mid_y = len(temp_y)//2 if len(temp_y)%2 != 0 else len(temp_y)//2 -1\n",
        "  \n",
        "  return temp_x[mid_x],temp_y[mid_y]\n",
        "\n",
        "def get_value(x,y,mid_x,mid_y):\n",
        "  \n",
        "  for idx in range(len(x)):\n",
        "    if x[idx] >= mid_x:\n",
        "      x[idx] = x[idx] - mid_x\n",
        "    else:\n",
        "      x[idx] = mid_x - x[idx]\n",
        "  for idx in range(len(y)):\n",
        "    if y[idx] >= mid_y:\n",
        "      y[idx] = y[idx] - mid_y\n",
        "    else:\n",
        "      y[idx] = mid_y - y[idx]\n",
        "  \n",
        "  return x,y\n",
        "\n",
        "def sol(x,y):\n",
        "  answer = []\n",
        "  for ele in range(len(x)):\n",
        "    x_mid,y_mid = get_mid(x,y)\n",
        "    temp_x,temp_y = get_value(x,y,x_mid,y_mid)\n",
        "\n",
        "    answer.append(sum(temp_x)+sum(temp_y))\n",
        "\n",
        "    best = 0\n",
        "    best_list = []\n",
        "    for i,x_ele,y_ele in enumerate(temp_x,temp_y):\n",
        "      if best <= x_ele + y_ele:\n",
        "        best = x_ele + y_ele\n",
        "    for i,x_ele,y_ele in enumerate(temp_x,temp_y):\n",
        "      if best == x_ele + y_ele:\n",
        "        best_list.append(i)\n",
        "    best = 0\n",
        "    for check in best_list:\n",
        "      temp_x = x.copy()\n",
        "      temp_y = y.copy()\n",
        "      temp_x.pop(check)\n",
        "      temp_y.pop(check)\n",
        "      x_mid,y_mid = get_mid(temp_x,temp_y)\n",
        "      temp_x1,temp_y1 = get_value(temp_x,temp_y,x_mid,y_mid)\n",
        "    best_idx=0\n",
        "    for i,x_ele,y_ele in enumerate(temp_x1,temp_y1):\n",
        "      if best < x_ele + y_ele:\n",
        "        best = x_ele + y_ele\n",
        "        best_idx = i\n",
        "    x.pop(best_idx)\n",
        "    y.pop(best_idx)\n",
        "    print(answer)\n",
        "\n",
        "\n",
        "     \n",
        "\n",
        "\n",
        "\n",
        "print(sol(x,y))\n",
        "\n",
        "  \n",
        "  "
      ],
      "metadata": {
        "colab": {
          "base_uri": "https://localhost:8080/",
          "height": 451
        },
        "id": "haX1N78PLP4l",
        "outputId": "846959a6-5612-40af-d8e6-dab28892f856"
      },
      "execution_count": null,
      "outputs": [
        {
          "name": "stdout",
          "output_type": "stream",
          "text": [
            "3\n",
            "2 1\n",
            "3 5\n",
            "1 5\n"
          ]
        },
        {
          "output_type": "error",
          "ename": "TypeError",
          "evalue": "ignored",
          "traceback": [
            "\u001b[0;31m---------------------------------------------------------------------------\u001b[0m",
            "\u001b[0;31mTypeError\u001b[0m                                 Traceback (most recent call last)",
            "\u001b[0;32m<ipython-input-2-50544a2cec3e>\u001b[0m in \u001b[0;36m<module>\u001b[0;34m\u001b[0m\n\u001b[1;32m     72\u001b[0m \u001b[0;34m\u001b[0m\u001b[0m\n\u001b[1;32m     73\u001b[0m \u001b[0;34m\u001b[0m\u001b[0m\n\u001b[0;32m---> 74\u001b[0;31m \u001b[0mprint\u001b[0m\u001b[0;34m(\u001b[0m\u001b[0msol\u001b[0m\u001b[0;34m(\u001b[0m\u001b[0mx\u001b[0m\u001b[0;34m,\u001b[0m\u001b[0my\u001b[0m\u001b[0;34m)\u001b[0m\u001b[0;34m)\u001b[0m\u001b[0;34m\u001b[0m\u001b[0;34m\u001b[0m\u001b[0m\n\u001b[0m\u001b[1;32m     75\u001b[0m \u001b[0;34m\u001b[0m\u001b[0m\n\u001b[1;32m     76\u001b[0m \u001b[0;34m\u001b[0m\u001b[0m\n",
            "\u001b[0;32m<ipython-input-2-50544a2cec3e>\u001b[0m in \u001b[0;36msol\u001b[0;34m(x, y)\u001b[0m\n\u001b[1;32m     44\u001b[0m     \u001b[0mbest\u001b[0m \u001b[0;34m=\u001b[0m \u001b[0;36m0\u001b[0m\u001b[0;34m\u001b[0m\u001b[0;34m\u001b[0m\u001b[0m\n\u001b[1;32m     45\u001b[0m     \u001b[0mbest_list\u001b[0m \u001b[0;34m=\u001b[0m \u001b[0;34m[\u001b[0m\u001b[0;34m]\u001b[0m\u001b[0;34m\u001b[0m\u001b[0;34m\u001b[0m\u001b[0m\n\u001b[0;32m---> 46\u001b[0;31m     \u001b[0;32mfor\u001b[0m \u001b[0mi\u001b[0m\u001b[0;34m,\u001b[0m\u001b[0mx_ele\u001b[0m\u001b[0;34m,\u001b[0m\u001b[0my_ele\u001b[0m \u001b[0;32min\u001b[0m \u001b[0menumerate\u001b[0m\u001b[0;34m(\u001b[0m\u001b[0mtemp_x\u001b[0m\u001b[0;34m,\u001b[0m\u001b[0mtemp_y\u001b[0m\u001b[0;34m)\u001b[0m\u001b[0;34m:\u001b[0m\u001b[0;34m\u001b[0m\u001b[0;34m\u001b[0m\u001b[0m\n\u001b[0m\u001b[1;32m     47\u001b[0m       \u001b[0;32mif\u001b[0m \u001b[0mbest\u001b[0m \u001b[0;34m<=\u001b[0m \u001b[0mx_ele\u001b[0m \u001b[0;34m+\u001b[0m \u001b[0my_ele\u001b[0m\u001b[0;34m:\u001b[0m\u001b[0;34m\u001b[0m\u001b[0;34m\u001b[0m\u001b[0m\n\u001b[1;32m     48\u001b[0m         \u001b[0mbest\u001b[0m \u001b[0;34m=\u001b[0m \u001b[0mx_ele\u001b[0m \u001b[0;34m+\u001b[0m \u001b[0my_ele\u001b[0m\u001b[0;34m\u001b[0m\u001b[0;34m\u001b[0m\u001b[0m\n",
            "\u001b[0;31mTypeError\u001b[0m: 'list' object cannot be interpreted as an integer"
          ]
        }
      ]
    },
    {
      "cell_type": "code",
      "source": [],
      "metadata": {
        "id": "eEzFZ_H6MBKq"
      },
      "execution_count": null,
      "outputs": []
    }
  ]
}